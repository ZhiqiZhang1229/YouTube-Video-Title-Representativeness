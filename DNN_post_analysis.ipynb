{
 "cells": [
  {
   "cell_type": "code",
   "execution_count": 1,
   "id": "706e5bca",
   "metadata": {},
   "outputs": [
    {
     "name": "stderr",
     "output_type": "stream",
     "text": [
      "Some layers from the model checkpoint at bert-base-cased were not used when initializing TFBertModel: ['mlm___cls', 'nsp___cls']\n",
      "- This IS expected if you are initializing TFBertModel from the checkpoint of a model trained on another task or with another architecture (e.g. initializing a BertForSequenceClassification model from a BertForPreTraining model).\n",
      "- This IS NOT expected if you are initializing TFBertModel from the checkpoint of a model that you expect to be exactly identical (initializing a BertForSequenceClassification model from a BertForSequenceClassification model).\n",
      "All the layers of TFBertModel were initialized from the model checkpoint at bert-base-cased.\n",
      "If your task is similar to the task the model of the checkpoint was trained on, you can already use TFBertModel for predictions without further training.\n"
     ]
    }
   ],
   "source": [
    "import pandas as pd\n",
    "import numpy as np\n",
    "import matplotlib.pyplot as plt\n",
    "from sklearn.model_selection import train_test_split\n",
    "import tensorflow as tf\n",
    "from tensorflow.keras.layers import Dense\n",
    "from tensorflow.keras.models import Sequential\n",
    "from tensorflow.keras import Input,Model\n",
    "from transformers import BertTokenizer, BertModel, TFBertModel \n",
    "\n",
    "tokenizer = BertTokenizer.from_pretrained('bert-base-cased')\n",
    "bert = TFBertModel.from_pretrained('bert-base-cased')"
   ]
  },
  {
   "cell_type": "code",
   "execution_count": 60,
   "id": "f759d2dc",
   "metadata": {},
   "outputs": [
    {
     "name": "stdout",
     "output_type": "stream",
     "text": [
      "WARNING:tensorflow:Error in loading the saved optimizer state. As a result, your model is starting with a freshly initialized optimizer.\n"
     ]
    }
   ],
   "source": [
    "model =tf.keras.models.load_model('1204_1dnn.h5',custom_objects={\"TFBertModel\": bert})"
   ]
  },
  {
   "cell_type": "code",
   "execution_count": 61,
   "id": "e45afd42",
   "metadata": {},
   "outputs": [
    {
     "name": "stdout",
     "output_type": "stream",
     "text": [
      "Model: \"model_3\"\n",
      "__________________________________________________________________________________________________\n",
      " Layer (type)                   Output Shape         Param #     Connected to                     \n",
      "==================================================================================================\n",
      " input_ids_title (InputLayer)   [(None, 22)]         0           []                               \n",
      "                                                                                                  \n",
      " attention_mask_title (InputLay  [(None, 22)]        0           []                               \n",
      " er)                                                                                              \n",
      "                                                                                                  \n",
      " input_ids_coverword (InputLaye  [(None, 20)]        0           []                               \n",
      " r)                                                                                               \n",
      "                                                                                                  \n",
      " attention_mask_coverword (Inpu  [(None, 20)]        0           []                               \n",
      " tLayer)                                                                                          \n",
      "                                                                                                  \n",
      " tf_bert_model_3 (TFBertModel)  multiple             108310272   ['input_ids_title[0][0]',        \n",
      "                                                                  'attention_mask_title[0][0]',   \n",
      "                                                                  'input_ids_coverword[0][0]',    \n",
      "                                                                  'attention_mask_coverword[0][0]'\n",
      "                                                                 ]                                \n",
      "                                                                                                  \n",
      " global_max_pooling1d_6 (Global  (None, 768)         0           ['tf_bert_model_3[0][0]']        \n",
      " MaxPooling1D)                                                                                    \n",
      "                                                                                                  \n",
      " global_max_pooling1d_7 (Global  (None, 768)         0           ['tf_bert_model_3[1][0]']        \n",
      " MaxPooling1D)                                                                                    \n",
      "                                                                                                  \n",
      " dropout_46 (Dropout)           (None, 768)          0           ['global_max_pooling1d_6[0][0]'] \n",
      "                                                                                                  \n",
      " dropout_47 (Dropout)           (None, 768)          0           ['global_max_pooling1d_7[0][0]'] \n",
      "                                                                                                  \n",
      " input_embeddings_cc (InputLaye  [(None, 768)]       0           []                               \n",
      " r)                                                                                               \n",
      "                                                                                                  \n",
      " concatenate_9 (Concatenate)    (None, 1536)         0           ['dropout_46[0][0]',             \n",
      "                                                                  'dropout_47[0][0]']             \n",
      "                                                                                                  \n",
      " dropout_48 (Dropout)           (None, 768)          0           ['input_embeddings_cc[0][0]']    \n",
      "                                                                                                  \n",
      " dense_23 (Dense)               (None, 20)           30740       ['concatenate_9[0][0]']          \n",
      "                                                                                                  \n",
      " dense_21 (Dense)               (None, 20)           15380       ['dropout_48[0][0]']             \n",
      "                                                                                                  \n",
      " input_control (InputLayer)     [(None, 238)]        0           []                               \n",
      "                                                                                                  \n",
      " normalization_12 (Normalizatio  (None, 20)          41          ['dense_23[0][0]']               \n",
      " n)                                                                                               \n",
      "                                                                                                  \n",
      " normalization_9 (Normalization  (None, 20)          41          ['dense_21[0][0]']               \n",
      " )                                                                                                \n",
      "                                                                                                  \n",
      " normalization_10 (Normalizatio  (None, 238)         477         ['input_control[0][0]']          \n",
      " n)                                                                                               \n",
      "                                                                                                  \n",
      " lambda_3 (Lambda)              (None, 20)           0           ['normalization_12[0][0]',       \n",
      "                                                                  'normalization_9[0][0]']        \n",
      "                                                                                                  \n",
      " dense_22 (Dense)               (None, 20)           4780        ['normalization_10[0][0]']       \n",
      "                                                                                                  \n",
      " dense_24 (Dense)               (None, 20)           420         ['lambda_3[0][0]']               \n",
      "                                                                                                  \n",
      " normalization_11 (Normalizatio  (None, 20)          41          ['dense_22[0][0]']               \n",
      " n)                                                                                               \n",
      "                                                                                                  \n",
      " concatenate_10 (Concatenate)   (None, 40)           0           ['dense_24[0][0]',               \n",
      "                                                                  'normalization_11[0][0]']       \n",
      "                                                                                                  \n",
      " concatenate_11 (Concatenate)   (None, 60)           0           ['concatenate_10[0][0]',         \n",
      "                                                                  'normalization_12[0][0]']       \n",
      "                                                                                                  \n",
      " dense_25 (Dense)               (None, 20)           1220        ['concatenate_11[0][0]']         \n",
      "                                                                                                  \n",
      " dense_26 (Dense)               (None, 10)           210         ['dense_25[0][0]']               \n",
      "                                                                                                  \n",
      " output (Dense)                 (None, 1)            11          ['dense_26[0][0]']               \n",
      "                                                                                                  \n",
      "==================================================================================================\n",
      "Total params: 108,363,633\n",
      "Trainable params: 108,363,033\n",
      "Non-trainable params: 600\n",
      "__________________________________________________________________________________________________\n"
     ]
    }
   ],
   "source": [
    "model.summary()"
   ]
  },
  {
   "cell_type": "code",
   "execution_count": 66,
   "id": "35a0292a",
   "metadata": {},
   "outputs": [],
   "source": [
    "weights_3 = model.layers[-3].get_weights() \n",
    "weights_2 = model.layers[-2].get_weights() \n",
    "weights_1 = model.layers[-1].get_weights() "
   ]
  },
  {
   "cell_type": "code",
   "execution_count": 67,
   "id": "ab03212a",
   "metadata": {},
   "outputs": [],
   "source": [
    "para = np.dot(np.dot(weights_3[0],weights_2[0]),weights_1[0]).reshape(-1)"
   ]
  },
  {
   "cell_type": "code",
   "execution_count": 68,
   "id": "8060c9b8",
   "metadata": {},
   "outputs": [
    {
     "data": {
      "text/plain": [
       "count    60.000000\n",
       "mean      0.066885\n",
       "std       0.253683\n",
       "min      -0.494515\n",
       "25%      -0.153985\n",
       "50%       0.096088\n",
       "75%       0.250511\n",
       "max       0.613122\n",
       "dtype: float64"
      ]
     },
     "execution_count": 68,
     "metadata": {},
     "output_type": "execute_result"
    }
   ],
   "source": [
    "pd.Series(para).describe()"
   ]
  },
  {
   "cell_type": "code",
   "execution_count": 72,
   "id": "be25c26d",
   "metadata": {},
   "outputs": [
    {
     "data": {
      "image/png": "[encoded data removed]",
      "text/plain": [
       "<Figure size 640x480 with 1 Axes>"
      ]
     },
     "metadata": {},
     "output_type": "display_data"
    }
   ],
   "source": [
    "plt.scatter(np.arange(60),para)\n",
    "# plt.vlines(x=20,ymin=para[28],ymax=para[54])\n",
    "# plt.vlines(x=40,ymin=para[28],ymax=para[54])\n",
    "plt.ylabel('Weights')\n",
    "plt.savefig('para.png')\n"
   ]
  },
  {
   "cell_type": "code",
   "execution_count": 73,
   "id": "45e1158c",
   "metadata": {},
   "outputs": [
    {
     "data": {
      "text/plain": [
       "(0.24111915, 0.22595999, 0.19473425)"
      ]
     },
     "execution_count": 73,
     "metadata": {},
     "output_type": "execute_result"
    }
   ],
   "source": [
    "np.abs(para)[:20].mean(),np.abs(para)[20:40].mean(),np.abs(para)[40:].mean()"
   ]
  },
  {
   "cell_type": "code",
   "execution_count": null,
   "id": "e0e982e9",
   "metadata": {},
   "outputs": [],
   "source": []
  }
 ],
 "metadata": {
  "kernelspec": {
   "display_name": "Python 3 (ipykernel)",
   "language": "python",
   "name": "python3"
  },
  "language_info": {
   "codemirror_mode": {
    "name": "ipython",
    "version": 3
   },
   "file_extension": ".py",
   "mimetype": "text/x-python",
   "name": "python",
   "nbconvert_exporter": "python",
   "pygments_lexer": "ipython3",
   "version": "3.9.7"
  }
 },
 "nbformat": 4,
 "nbformat_minor": 5
}
